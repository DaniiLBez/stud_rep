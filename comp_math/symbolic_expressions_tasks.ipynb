{
 "cells": [
  {
   "cell_type": "markdown",
   "metadata": {},
   "source": [
    "# Задача 3\n",
    "\n",
    "Илон наконец-то решил трудный интеграл, сделав при этом очень много замен. Можно было бы оставить все так, как есть, но вредный преподаватель хочет, чтобы в итоговом выражении не было никаких замен. Помогите Илону и напишите программу, которая выведет итоговое выражение, не содержащее замен.\n",
    "\n",
    "# Входные данные:\n",
    "\n",
    "Символьное выражение и список вида [t = f(u, z), u = g(x), z = h(x), ...]. Замены приведены в обратном хронологическом порядке, то есть первый элемент в списке - самая последняя замена.\n",
    "\n",
    "# Выходные данные:\n",
    "\n",
    "Исходное выражение после подстановки."
   ]
  },
  {
   "cell_type": "code",
   "execution_count": 166,
   "metadata": {},
   "outputs": [],
   "source": [
    "from sage.calculus.calculus import at"
   ]
  },
  {
   "cell_type": "code",
   "execution_count": 172,
   "metadata": {},
   "outputs": [],
   "source": [
    "def solve(expr, subs_lst):\n",
    "    for elem in subs_lst:\n",
    "        expr = at(expr, subs_lst)\n",
    "    return expr\n",
    "    \n",
    "    "
   ]
  },
  {
   "cell_type": "code",
   "execution_count": 175,
   "metadata": {},
   "outputs": [
    {
     "data": {
      "text/plain": [
       "z + cos(x + y) + 1"
      ]
     },
     "execution_count": 175,
     "metadata": {},
     "output_type": "execute_result"
    }
   ],
   "source": [
    "solve(t+u, [t == z+1, u == cos(x+y)])"
   ]
  },
  {
   "cell_type": "markdown",
   "metadata": {},
   "source": [
    "# Задача 4\n",
    "\n",
    "Вам дано два полинома. Выполните следующее:\n",
    "\n",
    "1. Выведите коэффициенты (включая те, которые равны нулю) при каждой степени (от большей к меньшей) для обоих полиномов.\n",
    "2. Разделите один данный полином на другой и выведите его.\n",
    "3. Для x∈[−100,100] выведите те значения x, в которых значения остатка от деления полиномов, полученного в пункте 2 - полный квадрат или простое число.\n",
    "4. Найдите наибольший общий делитель исходных полиномов.\n",
    "5. Перемножьте исходные полиномы и выведите его (в виде символьного выражения)"
   ]
  },
  {
   "cell_type": "code",
   "execution_count": 249,
   "metadata": {},
   "outputs": [],
   "source": [
    "R = PolynomialRing(ZZ,'x')\n",
    "dividend = R(x+1)\n",
    "divisor = R(x-1)"
   ]
  },
  {
   "cell_type": "code",
   "execution_count": 250,
   "metadata": {
    "scrolled": true
   },
   "outputs": [],
   "source": [
    "def solve(dividend, divisor):\n",
    "    R = PolynomialRing(ZZ,'x')\n",
    "    dividend = R(dividend)\n",
    "    divisor = R(divisor)\n",
    "    res = [dividend.list()[::-1], divisor.list()[::-1]]\n",
    "    res.append(dividend.quo_rem(divisor)[1])\n",
    "    \n",
    "    cur = []\n",
    "    for i in range(-100, 100):\n",
    "        if Integer(res[-1](i)).is_prime() or Integer(res[-1](i)).is_square():\n",
    "            cur.append(i)\n",
    "    res.append(cur)\n",
    "    res.append(dividend.gcd(divisor))\n",
    "    res.append(expand(dividend*divisor))\n",
    "    return res"
   ]
  },
  {
   "cell_type": "code",
   "execution_count": 252,
   "metadata": {},
   "outputs": [],
   "source": [
    "res = solve(dividend, divisor)"
   ]
  }
 ],
 "metadata": {
  "kernelspec": {
   "display_name": "SageMath 9.3",
   "language": "sage",
   "name": "sagemath"
  },
  "language_info": {
   "codemirror_mode": {
    "name": "ipython",
    "version": 3
   },
   "file_extension": ".py",
   "mimetype": "text/x-python",
   "name": "python",
   "nbconvert_exporter": "python",
   "pygments_lexer": "ipython3",
   "version": "3.7.10"
  }
 },
 "nbformat": 4,
 "nbformat_minor": 4
}
